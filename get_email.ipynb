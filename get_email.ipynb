{
 "cells": [
  {
   "cell_type": "code",
   "execution_count": 24,
   "metadata": {},
   "outputs": [],
   "source": [
    "result = [\n",
    "  {\n",
    "    \"record\": {\n",
    "      \"email\": \"neoyufangs@gmail.com\",\n",
    "      \"message\": \"string\",\n",
    "      \"method\": \"Email\",\n",
    "      \"subject\": \"Upload failed\"\n",
    "    }\n",
    "  }\n",
    "]"
   ]
  },
  {
   "cell_type": "code",
   "execution_count": 25,
   "metadata": {},
   "outputs": [
    {
     "data": {
      "text/plain": [
       "[{'record': {'email': 'neoyufangs@gmail.com',\n",
       "   'message': 'string',\n",
       "   'method': 'Email',\n",
       "   'subject': 'Upload failed'}}]"
      ]
     },
     "execution_count": 25,
     "metadata": {},
     "output_type": "execute_result"
    }
   ],
   "source": [
    "result"
   ]
  },
  {
   "cell_type": "code",
   "execution_count": 26,
   "metadata": {},
   "outputs": [],
   "source": [
    "new_result=result[0]"
   ]
  },
  {
   "cell_type": "code",
   "execution_count": 27,
   "metadata": {},
   "outputs": [
    {
     "name": "stdout",
     "output_type": "stream",
     "text": [
      "{'email': 'neoyufangs@gmail.com', 'message': 'string', 'method': 'Email', 'subject': 'Upload failed'}\n"
     ]
    }
   ],
   "source": [
    "print(new_result.get('record'))"
   ]
  },
  {
   "cell_type": "code",
   "execution_count": 29,
   "metadata": {},
   "outputs": [],
   "source": [
    "record_details = new_result.get('record')"
   ]
  },
  {
   "cell_type": "code",
   "execution_count": 32,
   "metadata": {},
   "outputs": [],
   "source": [
    "record_details_email = record_details.get('email')"
   ]
  },
  {
   "cell_type": "code",
   "execution_count": 33,
   "metadata": {},
   "outputs": [],
   "source": [
    "record_details_message = record_details.get('message')"
   ]
  },
  {
   "cell_type": "code",
   "execution_count": null,
   "metadata": {},
   "outputs": [],
   "source": [
    "record_details_method = record_details.get('method')"
   ]
  },
  {
   "cell_type": "code",
   "execution_count": 39,
   "metadata": {},
   "outputs": [],
   "source": [
    "record_details_subject = record_details.get('subject')"
   ]
  },
  {
   "cell_type": "code",
   "execution_count": 37,
   "metadata": {},
   "outputs": [
    {
     "name": "stdout",
     "output_type": "stream",
     "text": [
      "string\n"
     ]
    }
   ],
   "source": [
    "print(record_details_message)"
   ]
  },
  {
   "cell_type": "code",
   "execution_count": 35,
   "metadata": {},
   "outputs": [
    {
     "name": "stdout",
     "output_type": "stream",
     "text": [
      "Email\n"
     ]
    }
   ],
   "source": [
    "print(record_details_method)"
   ]
  },
  {
   "cell_type": "code",
   "execution_count": 40,
   "metadata": {},
   "outputs": [
    {
     "name": "stdout",
     "output_type": "stream",
     "text": [
      "Upload failed\n"
     ]
    }
   ],
   "source": [
    "print(record_details_subject)"
   ]
  },
  {
   "cell_type": "code",
   "execution_count": null,
   "metadata": {},
   "outputs": [],
   "source": []
  },
  {
   "cell_type": "code",
   "execution_count": null,
   "metadata": {},
   "outputs": [],
   "source": [
    "result = {\"name\": \"adam\"}"
   ]
  },
  {
   "cell_type": "code",
   "execution_count": 20,
   "metadata": {},
   "outputs": [
    {
     "name": "stdout",
     "output_type": "stream",
     "text": [
      "adam\n"
     ]
    }
   ],
   "source": [
    "print(result.get('name'))"
   ]
  },
  {
   "cell_type": "code",
   "execution_count": 12,
   "metadata": {},
   "outputs": [
    {
     "name": "stdout",
     "output_type": "stream",
     "text": [
      "{'name': 'adam'}\n"
     ]
    }
   ],
   "source": [
    "dict = {'Name': 'Zabra', 'Age': 7}\n",
    "print \"Value : %s\" %  dict.get('Age')\n",
    "print \"Value : %s\" %  dict.get('Education', \"Never\")"
   ]
  },
  {
   "cell_type": "code",
   "execution_count": 41,
   "metadata": {},
   "outputs": [],
   "source": [
    "post_result ={'id': ' 46 ', 'name': ' File Ingestion ', 'type': 'file_ingestion', 'status': 'Nok', 'message': 'New message', 'subject': ' Upload failed ', 'reg_video': 1, 'updated_by': '5', 'triggered_by': '5', 'updated_time': '2020-06-08T23:37:10.976072', 'triggered_time': '2020-06-08T23:37:10.976072', 'access_request_params': {'access_to': '2020-04-06T04:06:08.0910Z', 'ownership': False, 'access_from': '2020-04-06T04:06:08.0910Z'}}"
   ]
  },
  {
   "cell_type": "code",
   "execution_count": 44,
   "metadata": {},
   "outputs": [
    {
     "name": "stdout",
     "output_type": "stream",
     "text": [
      "{'id': ' 46 ', 'name': ' File Ingestion ', 'type': 'file_ingestion', 'status': 'Nok', 'message': 'New message', 'subject': ' Upload failed ', 'reg_video': 1, 'updated_by': '5', 'triggered_by': '5', 'updated_time': '2020-06-08T23:37:10.976072', 'triggered_time': '2020-06-08T23:37:10.976072', 'access_request_params': {'access_to': '2020-04-06T04:06:08.0910Z', 'ownership': False, 'access_from': '2020-04-06T04:06:08.0910Z'}}\n"
     ]
    }
   ],
   "source": [
    "print(post_result)"
   ]
  },
  {
   "cell_type": "code",
   "execution_count": 42,
   "metadata": {},
   "outputs": [],
   "source": [
    "#get id from post result\n",
    "record_notification_id = post_result.get('id')"
   ]
  },
  {
   "cell_type": "code",
   "execution_count": 43,
   "metadata": {},
   "outputs": [
    {
     "name": "stdout",
     "output_type": "stream",
     "text": [
      " 46 \n"
     ]
    }
   ],
   "source": [
    "print(record_notification_id)"
   ]
  },
  {
   "cell_type": "code",
   "execution_count": null,
   "metadata": {},
   "outputs": [],
   "source": []
  }
 ],
 "metadata": {
  "kernelspec": {
   "display_name": "Python 3",
   "language": "python",
   "name": "python3"
  },
  "language_info": {
   "codemirror_mode": {
    "name": "ipython",
    "version": 3
   },
   "file_extension": ".py",
   "mimetype": "text/x-python",
   "name": "python",
   "nbconvert_exporter": "python",
   "pygments_lexer": "ipython3",
   "version": "3.7.5"
  }
 },
 "nbformat": 4,
 "nbformat_minor": 4
}
